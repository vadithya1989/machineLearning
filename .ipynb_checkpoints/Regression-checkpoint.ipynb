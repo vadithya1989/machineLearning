{
 "cells": [
  {
   "cell_type": "code",
   "execution_count": 18,
   "metadata": {},
   "outputs": [
    {
     "name": "stdout",
     "output_type": "stream",
     "text": [
      "            Close     HL_PCT  PCT_change\n",
      "Date                                    \n",
      "2018-02-26  11.62   0.000000    0.000000\n",
      "2018-11-20  10.46  22.179732  -18.153365\n",
      "2018-11-21   9.42   0.000000    0.000000\n",
      "2018-11-22   8.50   0.000000    0.000000\n",
      "2018-11-26   8.50   6.117353    5.853051\n"
     ]
    }
   ],
   "source": [
    "import pandas as pd\n",
    "import quandl\n",
    "\n",
    "quandl.ApiConfig.api_key = \"6TTxtAq-Eh8VpPMeCpex\"\n",
    "\n",
    "df = quandl.get('BSE/BOM539397')\n",
    "\n",
    "df = df[['Open', 'High', 'Low', 'Close', 'WAP']]\n",
    "\n",
    "#define meaningful features and use them in regression model\n",
    "df['HL_PCT'] = ((df['High'] - df['Low'])/ df['Low'])*100\n",
    "\n",
    "df['PCT_change'] = ((df['Close'] - df['Open'])/ df['Open'])*100\n",
    "\n",
    "df = df[['Close', 'HL_PCT', 'PCT_change']]\n",
    "\n",
    "print(df)"
   ]
  },
  {
   "cell_type": "code",
   "execution_count": null,
   "metadata": {},
   "outputs": [],
   "source": []
  },
  {
   "cell_type": "code",
   "execution_count": null,
   "metadata": {},
   "outputs": [],
   "source": []
  }
 ],
 "metadata": {
  "kernelspec": {
   "display_name": "Python 3",
   "language": "python",
   "name": "python3"
  },
  "language_info": {
   "codemirror_mode": {
    "name": "ipython",
    "version": 3
   },
   "file_extension": ".py",
   "mimetype": "text/x-python",
   "name": "python",
   "nbconvert_exporter": "python",
   "pygments_lexer": "ipython3",
   "version": "3.7.3"
  }
 },
 "nbformat": 4,
 "nbformat_minor": 2
}
