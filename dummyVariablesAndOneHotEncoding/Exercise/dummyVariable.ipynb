{
 "cells": [
  {
   "cell_type": "code",
   "execution_count": 2,
   "metadata": {},
   "outputs": [],
   "source": [
    "import pandas as pd\n",
    "import numpy as np\n",
    "import matplotlib.pyplot as plt\n",
    "from sklearn import linear_model"
   ]
  },
  {
   "cell_type": "code",
   "execution_count": 29,
   "metadata": {},
   "outputs": [
    {
     "name": "stdout",
     "output_type": "stream",
     "text": [
      "                Car Model  Mileage  Sell Price($)  Age(yrs)\n",
      "0                  BMW X5    69000          18000         6\n",
      "1                  BMW X5    35000          34000         3\n",
      "2                  BMW X5    57000          26100         5\n",
      "3                  BMW X5    22500          40000         2\n",
      "4                  BMW X5    46000          31500         4\n",
      "5                 Audi A5    59000          29400         5\n",
      "6                 Audi A5    52000          32000         5\n",
      "7                 Audi A5    72000          19300         6\n",
      "8                 Audi A5    91000          12000         8\n",
      "9   Mercedez Benz C class    67000          22000         6\n",
      "10  Mercedez Benz C class    83000          20000         7\n",
      "11  Mercedez Benz C class    79000          21000         7\n",
      "12  Mercedez Benz C class    59000          33000         5\n",
      "Index(['Car Model', 'Mileage', 'Sell Price($)', 'Age(yrs)'], dtype='object')\n"
     ]
    }
   ],
   "source": [
    "df = pd.read_csv(\"carPrices.csv\")\n",
    "print(df)\n",
    "print(df.columns)"
   ]
  },
  {
   "cell_type": "markdown",
   "metadata": {},
   "source": [
    "### Call get_dummies function with drop_first=\"True\" to automatically remove one of the dependent vartiable"
   ]
  },
  {
   "cell_type": "code",
   "execution_count": 14,
   "metadata": {},
   "outputs": [
    {
     "name": "stdout",
     "output_type": "stream",
     "text": [
      "    BMW X5  Mercedez Benz C class\n",
      "0        1                      0\n",
      "1        1                      0\n",
      "2        1                      0\n",
      "3        1                      0\n",
      "4        1                      0\n",
      "5        0                      0\n",
      "6        0                      0\n",
      "7        0                      0\n",
      "8        0                      0\n",
      "9        0                      1\n",
      "10       0                      1\n",
      "11       0                      1\n",
      "12       0                      1\n"
     ]
    }
   ],
   "source": [
    "dummyCar = pd.get_dummies(df['Car Model'], drop_first=\"True\")\n",
    "print(dummyCar)"
   ]
  },
  {
   "cell_type": "code",
   "execution_count": 19,
   "metadata": {},
   "outputs": [
    {
     "name": "stdout",
     "output_type": "stream",
     "text": [
      "                Car Model  Mileage  Sell Price($)  Age(yrs)  BMW X5  \\\n",
      "0                  BMW X5    69000          18000         6       1   \n",
      "1                  BMW X5    35000          34000         3       1   \n",
      "2                  BMW X5    57000          26100         5       1   \n",
      "3                  BMW X5    22500          40000         2       1   \n",
      "4                  BMW X5    46000          31500         4       1   \n",
      "5                 Audi A5    59000          29400         5       0   \n",
      "6                 Audi A5    52000          32000         5       0   \n",
      "7                 Audi A5    72000          19300         6       0   \n",
      "8                 Audi A5    91000          12000         8       0   \n",
      "9   Mercedez Benz C class    67000          22000         6       0   \n",
      "10  Mercedez Benz C class    83000          20000         7       0   \n",
      "11  Mercedez Benz C class    79000          21000         7       0   \n",
      "12  Mercedez Benz C class    59000          33000         5       0   \n",
      "\n",
      "    Mercedez Benz C class  \n",
      "0                       0  \n",
      "1                       0  \n",
      "2                       0  \n",
      "3                       0  \n",
      "4                       0  \n",
      "5                       0  \n",
      "6                       0  \n",
      "7                       0  \n",
      "8                       0  \n",
      "9                       1  \n",
      "10                      1  \n",
      "11                      1  \n",
      "12                      1  \n"
     ]
    }
   ],
   "source": [
    "dfMerged = pd.concat([df, dummyCar], axis = 'columns')\n",
    "print(dfMerged)"
   ]
  },
  {
   "cell_type": "code",
   "execution_count": 23,
   "metadata": {},
   "outputs": [
    {
     "name": "stdout",
     "output_type": "stream",
     "text": [
      "    Mileage  Sell Price($)  Age(yrs)  BMW X5  Mercedez Benz C class\n",
      "0     69000          18000         6       1                      0\n",
      "1     35000          34000         3       1                      0\n",
      "2     57000          26100         5       1                      0\n",
      "3     22500          40000         2       1                      0\n",
      "4     46000          31500         4       1                      0\n",
      "5     59000          29400         5       0                      0\n",
      "6     52000          32000         5       0                      0\n",
      "7     72000          19300         6       0                      0\n",
      "8     91000          12000         8       0                      0\n",
      "9     67000          22000         6       0                      1\n",
      "10    83000          20000         7       0                      1\n",
      "11    79000          21000         7       0                      1\n",
      "12    59000          33000         5       0                      1\n"
     ]
    }
   ],
   "source": [
    "final = dfMerged.drop(dfMerged[['Car Model']], axis='columns')\n",
    "print(final)"
   ]
  },
  {
   "cell_type": "code",
   "execution_count": 24,
   "metadata": {},
   "outputs": [
    {
     "data": {
      "text/plain": [
       "<matplotlib.collections.PathCollection at 0x130efceb8>"
      ]
     },
     "execution_count": 24,
     "metadata": {},
     "output_type": "execute_result"
    },
    {
     "data": {
      "image/png": "[encoded data removed]",
      "text/plain": [
       "<Figure size 432x288 with 1 Axes>"
      ]
     },
     "metadata": {
      "needs_background": "light"
     },
     "output_type": "display_data"
    }
   ],
   "source": [
    "plt.scatter(final.Mileage, final['Sell Price($)'])"
   ]
  },
  {
   "cell_type": "code",
   "execution_count": 38,
   "metadata": {},
   "outputs": [
    {
     "data": {
      "text/plain": [
       "<matplotlib.collections.PathCollection at 0x137d07898>"
      ]
     },
     "execution_count": 38,
     "metadata": {},
     "output_type": "execute_result"
    },
    {
     "data": {
      "image/png": "[encoded data removed]",
      "text/plain": [
       "<Figure size 432x288 with 1 Axes>"
      ]
     },
     "metadata": {
      "needs_background": "light"
     },
     "output_type": "display_data"
    }
   ],
   "source": [
    "plt.scatter(final['Age(yrs)'], final['Sell Price($)'])"
   ]
  },
  {
   "cell_type": "code",
   "execution_count": 39,
   "metadata": {},
   "outputs": [],
   "source": [
    "model = linear_model.LinearRegression()"
   ]
  },
  {
   "cell_type": "code",
   "execution_count": 45,
   "metadata": {},
   "outputs": [],
   "source": [
    "X = final.drop(final[['Sell Price($)']], axis='columns')\n",
    "y = final['Sell Price($)']"
   ]
  },
  {
   "cell_type": "code",
   "execution_count": 46,
   "metadata": {},
   "outputs": [
    {
     "data": {
      "text/plain": [
       "LinearRegression(copy_X=True, fit_intercept=True, n_jobs=None, normalize=False)"
      ]
     },
     "execution_count": 46,
     "metadata": {},
     "output_type": "execute_result"
    }
   ],
   "source": [
    "model.fit(X,y)"
   ]
  },
  {
   "cell_type": "code",
   "execution_count": 49,
   "metadata": {},
   "outputs": [
    {
     "data": {
      "text/plain": [
       "0.9417050937281083"
      ]
     },
     "execution_count": 49,
     "metadata": {},
     "output_type": "execute_result"
    }
   ],
   "source": [
    "model.score(X,y)"
   ]
  },
  {
   "cell_type": "code",
   "execution_count": 53,
   "metadata": {},
   "outputs": [
    {
     "data": {
      "text/plain": [
       "array([36991.31721061])"
      ]
     },
     "execution_count": 53,
     "metadata": {},
     "output_type": "execute_result"
    }
   ],
   "source": [
    "model.predict([[45000,4,0,1]])"
   ]
  },
  {
   "cell_type": "code",
   "execution_count": 52,
   "metadata": {},
   "outputs": [
    {
     "data": {
      "text/plain": [
       "array([11080.74313219])"
      ]
     },
     "execution_count": 52,
     "metadata": {},
     "output_type": "execute_result"
    }
   ],
   "source": [
    "\n",
    "model.predict([[86000,7,1,0]])"
   ]
  },
  {
   "cell_type": "code",
   "execution_count": null,
   "metadata": {},
   "outputs": [],
   "source": []
  }
 ],
 "metadata": {
  "kernelspec": {
   "display_name": "Python 3",
   "language": "python",
   "name": "python3"
  },
  "language_info": {
   "codemirror_mode": {
    "name": "ipython",
    "version": 3
   },
   "file_extension": ".py",
   "mimetype": "text/x-python",
   "name": "python",
   "nbconvert_exporter": "python",
   "pygments_lexer": "ipython3",
   "version": "3.7.3"
  }
 },
 "nbformat": 4,
 "nbformat_minor": 4
}
