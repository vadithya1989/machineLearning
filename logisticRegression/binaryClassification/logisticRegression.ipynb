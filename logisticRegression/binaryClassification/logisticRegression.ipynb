{
 "cells": [
  {
   "cell_type": "markdown",
   "metadata": {},
   "source": [
    "# Logistic regression \n",
    "\n",
    " - Linear regression - Home prices, Weather, stock price. Here predicted values are continuous (i.e.could be any number)\n",
    " - Logistic regression - Email is spam or not, Customer will buy insurance or not (BINARY CLASSIFICATION), Which party will someone vote for (n   parties)(MULTICLASS CLASSIFICATION). The predicted outcome belongs to one of the n categories. These are more commonly called CLASSIFICATION problems. "
   ]
  },
  {
   "cell_type": "markdown",
   "metadata": {},
   "source": [
    "# Sigmoid function : 1/(1+e^(-z))\n",
    " - Is used for logistic regression\n",
    " - The line y=mx+c used in linear regression is essentially fed into the logistic regression equation making it 1/(1+e^-(mx+c))"
   ]
  },
  {
   "cell_type": "code",
   "execution_count": 37,
   "metadata": {},
   "outputs": [],
   "source": [
    "import matplotlib.pyplot as plt\n",
    "f = []\n",
    "e = 2.73\n",
    "for z in range(-50,50):\n",
    "    f.append(1/(1+e**-(z*0.2)))"
   ]
  },
  {
   "cell_type": "code",
   "execution_count": 38,
   "metadata": {},
   "outputs": [
    {
     "data": {
      "text/plain": [
       "[<matplotlib.lines.Line2D at 0x12465d208>]"
      ]
     },
     "execution_count": 38,
     "metadata": {},
     "output_type": "execute_result"
    },
    {
     "data": {
      "image/png": "[encoded data removed]",
      "text/plain": [
       "<Figure size 432x288 with 1 Axes>"
      ]
     },
     "metadata": {
      "needs_background": "light"
     },
     "output_type": "display_data"
    }
   ],
   "source": [
    "plt.plot(f)"
   ]
  },
  {
   "cell_type": "code",
   "execution_count": 39,
   "metadata": {},
   "outputs": [],
   "source": [
    "import pandas as pd\n",
    "import numpy as np"
   ]
  },
  {
   "cell_type": "code",
   "execution_count": 42,
   "metadata": {},
   "outputs": [
    {
     "name": "stdout",
     "output_type": "stream",
     "text": [
      "    age  bought_insurance\n",
      "0    22                 0\n",
      "1    25                 0\n",
      "2    47                 1\n",
      "3    52                 0\n",
      "4    46                 1\n",
      "5    56                 1\n",
      "6    55                 0\n",
      "7    60                 1\n",
      "8    62                 1\n",
      "9    61                 1\n",
      "10   18                 0\n",
      "11   28                 0\n",
      "12   27                 0\n",
      "13   29                 0\n",
      "14   49                 1\n",
      "15   55                 1\n",
      "16   25                 1\n",
      "17   58                 1\n",
      "18   19                 0\n",
      "19   18                 0\n",
      "20   21                 0\n",
      "21   26                 0\n",
      "22   40                 1\n",
      "23   45                 1\n",
      "24   50                 1\n",
      "25   54                 1\n",
      "26   23                 0\n"
     ]
    }
   ],
   "source": [
    "df = pd.read_csv(\"/Users/adithyavijaykumar/Documents/projects/AI/machineLearningSeries/logisticRegression/binaryClassification/insurance.csv\")\n",
    "print(df)"
   ]
  },
  {
   "cell_type": "code",
   "execution_count": 43,
   "metadata": {},
   "outputs": [
    {
     "data": {
      "text/plain": [
       "<matplotlib.collections.PathCollection at 0x125017ef0>"
      ]
     },
     "execution_count": 43,
     "metadata": {},
     "output_type": "execute_result"
    },
    {
     "data": {
      "image/png": "[encoded data removed]",
      "text/plain": [
       "<Figure size 432x288 with 1 Axes>"
      ]
     },
     "metadata": {
      "needs_background": "light"
     },
     "output_type": "display_data"
    }
   ],
   "source": [
    "plt.scatter(df['age'], df['bought_insurance'])"
   ]
  },
  {
   "cell_type": "code",
   "execution_count": 82,
   "metadata": {},
   "outputs": [],
   "source": [
    "from sklearn.model_selection import train_test_split"
   ]
  },
  {
   "cell_type": "code",
   "execution_count": 83,
   "metadata": {},
   "outputs": [],
   "source": [
    "X_train, X_test, y_train, y_test = train_test_split(df[['age']], df[['bought_insurance']], train_size = 0.8)"
   ]
  },
  {
   "cell_type": "code",
   "execution_count": 84,
   "metadata": {},
   "outputs": [],
   "source": [
    "from sklearn.linear_model import LogisticRegression"
   ]
  },
  {
   "cell_type": "code",
   "execution_count": 85,
   "metadata": {},
   "outputs": [
    {
     "name": "stderr",
     "output_type": "stream",
     "text": [
      "/Users/adithyavijaykumar/anaconda3/lib/python3.7/site-packages/sklearn/linear_model/logistic.py:432: FutureWarning: Default solver will be changed to 'lbfgs' in 0.22. Specify a solver to silence this warning.\n",
      "  FutureWarning)\n",
      "/Users/adithyavijaykumar/anaconda3/lib/python3.7/site-packages/sklearn/utils/validation.py:724: DataConversionWarning: A column-vector y was passed when a 1d array was expected. Please change the shape of y to (n_samples, ), for example using ravel().\n",
      "  y = column_or_1d(y, warn=True)\n"
     ]
    },
    {
     "data": {
      "text/plain": [
       "LogisticRegression(C=1.0, class_weight=None, dual=False, fit_intercept=True,\n",
       "                   intercept_scaling=1, l1_ratio=None, max_iter=100,\n",
       "                   multi_class='warn', n_jobs=None, penalty='l2',\n",
       "                   random_state=None, solver='warn', tol=0.0001, verbose=0,\n",
       "                   warm_start=False)"
      ]
     },
     "execution_count": 85,
     "metadata": {},
     "output_type": "execute_result"
    }
   ],
   "source": [
    "model = LogisticRegression()\n",
    "model.fit(X_train, y_train)"
   ]
  },
  {
   "cell_type": "code",
   "execution_count": 86,
   "metadata": {},
   "outputs": [
    {
     "data": {
      "text/plain": [
       "<matplotlib.collections.PathCollection at 0x12637beb8>"
      ]
     },
     "execution_count": 86,
     "metadata": {},
     "output_type": "execute_result"
    },
    {
     "data": {
      "image/png": "[encoded data removed]",
      "text/plain": [
       "<Figure size 432x288 with 1 Axes>"
      ]
     },
     "metadata": {
      "needs_background": "light"
     },
     "output_type": "display_data"
    }
   ],
   "source": [
    "plt.scatter(X_train, model.predict(X_train))"
   ]
  },
  {
   "cell_type": "code",
   "execution_count": 87,
   "metadata": {},
   "outputs": [
    {
     "data": {
      "text/plain": [
       "array([1, 1, 0, 1, 0, 1])"
      ]
     },
     "execution_count": 87,
     "metadata": {},
     "output_type": "execute_result"
    }
   ],
   "source": [
    "model.predict(X_test)"
   ]
  },
  {
   "cell_type": "code",
   "execution_count": 88,
   "metadata": {},
   "outputs": [
    {
     "name": "stdout",
     "output_type": "stream",
     "text": [
      "    bought_insurance\n",
      "5                  1\n",
      "4                  1\n",
      "21                 0\n",
      "6                  0\n",
      "23                 1\n",
      "1                  0\n",
      "0                  0\n",
      "18                 0\n",
      "24                 1\n",
      "15                 1\n",
      "17                 1\n",
      "7                  1\n",
      "16                 1\n",
      "11                 0\n",
      "8                  1\n",
      "13                 0\n",
      "26                 0\n",
      "10                 0\n",
      "19                 0\n",
      "25                 1\n",
      "9                  1\n",
      "    bought_insurance\n",
      "3                  0\n",
      "22                 1\n",
      "12                 0\n",
      "14                 1\n",
      "20                 0\n",
      "2                  1\n"
     ]
    }
   ],
   "source": [
    "print(y_train)\n",
    "print(y_test)"
   ]
  },
  {
   "cell_type": "code",
   "execution_count": 93,
   "metadata": {},
   "outputs": [
    {
     "name": "stdout",
     "output_type": "stream",
     "text": [
      "    age\n",
      "3    52\n",
      "22   40\n",
      "12   27\n",
      "14   49\n",
      "20   21\n",
      "2    47\n"
     ]
    },
    {
     "data": {
      "text/plain": [
       "array([1, 1, 0, 1, 0, 1])"
      ]
     },
     "execution_count": 93,
     "metadata": {},
     "output_type": "execute_result"
    }
   ],
   "source": [
    "print(X_test)\n",
    "model.predict(X_test)"
   ]
  },
  {
   "cell_type": "markdown",
   "metadata": {},
   "source": [
    "### Also calculate the probability of someone buying an insurance"
   ]
  },
  {
   "cell_type": "code",
   "execution_count": 91,
   "metadata": {},
   "outputs": [
    {
     "data": {
      "text/plain": [
       "array([[0.23588494, 0.76411506],\n",
       "       [0.37326813, 0.62673187],\n",
       "       [0.54827251, 0.45172749],\n",
       "       [0.26676735, 0.73323265],\n",
       "       [0.62767831, 0.37232169],\n",
       "       [0.28872988, 0.71127012]])"
      ]
     },
     "execution_count": 91,
     "metadata": {},
     "output_type": "execute_result"
    }
   ],
   "source": [
    "model.predict_proba(X_test)"
   ]
  },
  {
   "cell_type": "code",
   "execution_count": null,
   "metadata": {},
   "outputs": [],
   "source": []
  }
 ],
 "metadata": {
  "kernelspec": {
   "display_name": "Python 3",
   "language": "python",
   "name": "python3"
  },
  "language_info": {
   "codemirror_mode": {
    "name": "ipython",
    "version": 3
   },
   "file_extension": ".py",
   "mimetype": "text/x-python",
   "name": "python",
   "nbconvert_exporter": "python",
   "pygments_lexer": "ipython3",
   "version": "3.7.3"
  }
 },
 "nbformat": 4,
 "nbformat_minor": 4
}
